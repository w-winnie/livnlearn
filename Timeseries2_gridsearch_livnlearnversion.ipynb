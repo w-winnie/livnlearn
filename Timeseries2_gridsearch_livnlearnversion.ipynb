{
 "cells": [
  {
   "cell_type": "markdown",
   "id": "0798bbcc",
   "metadata": {},
   "source": [
    "#### SARIMA gridsearch"
   ]
  },
  {
   "cell_type": "markdown",
   "id": "385df69c",
   "metadata": {},
   "source": [
    "The error looks better than 24 and we can try out different K's but usually if the data isnt too much - we can create sort of a hyperparameter tuning function to find us best parameters"
   ]
  },
  {
   "cell_type": "code",
   "execution_count": null,
   "id": "f7cd852a",
   "metadata": {},
   "outputs": [],
   "source": [
    "from itertools import product\n",
    "\n",
    "def grid_search_sarima_exog(\n",
    "    df, splits,\n",
    "    K_list=(2,3,4),                      \n",
    "    orders=((1,0,0), (2,0,0), (1,0,1), (2,0,1)),\n",
    "    seasonal_orders=((1,0,1,24),(1,0,0,24)), #,(0,0,1,24)\n",
    "    min_train_size=24*30, max_train_size=24*90,\n",
    "    weekly_period=168,\n",
    "    metric='mape'                            \n",
    "):\n",
    "    exog_cache = {K: fourier_df(df.index, weekly_period, K) for K in K_list}\n",
    "\n",
    "    rows = []\n",
    "    for K in K_list:\n",
    "        exog = exog_cache[K]\n",
    "        for order, seas in product(orders, seasonal_orders):\n",
    "            sarima_exog_model_fit, sarima_exog_all_metrics, sarima_exog_avg_metrics = train_sarima_exog_on_splits(\n",
    "                splits, order=order, seasonal_order=seas,\n",
    "                min_train_size=min_train_size, max_train_size=max_train_size, exog=exog, iter=f\"{K}_{order}_{seas}\"\n",
    "            )\n",
    "            rows.append({\n",
    "                \"K\": K, \"order\": order, \"seasonal_order\": seas, **sarima_exog_avg_metrics\n",
    "            })\n",
    "            print(f\"K={K} order={order} seas={seas} | MAPE={sarima_exog_avg_metrics.get('mape',np.nan):.2f} RMSE={sarima_exog_avg_metrics.get('rmse',np.nan):.0f}\")\n",
    "\n",
    "    if not rows:\n",
    "        raise RuntimeError(\"Grid search produced no results\")\n",
    "\n",
    "    leaderboard = pd.DataFrame(rows)\n",
    "\n",
    "    if metric.lower() in (\"mape\",\"rmse\",\"mae\"):\n",
    "        leaderboard = leaderboard.sort_values(metric).reset_index(drop=True)\n",
    "    elif metric.lower() == \"r2\":\n",
    "        leaderboard = leaderboard.sort_values(metric, ascending=False).reset_index(drop=True)\n",
    "    else:\n",
    "        raise ValueError(\"metric must be one of: 'mape','rmse','mae','r2'\")\n",
    "\n",
    "    best_row = leaderboard.iloc[0].to_dict()\n",
    "    return best_row, leaderboard"
   ]
  },
  {
   "cell_type": "code",
   "execution_count": null,
   "id": "9863aab5",
   "metadata": {},
   "outputs": [],
   "source": [
    "custom_expanding_window_splits_selected = [custom_expanding_window_splits[-1]]"
   ]
  },
  {
   "cell_type": "code",
   "execution_count": null,
   "id": "8cc91aea",
   "metadata": {},
   "outputs": [],
   "source": [
    "best, board = grid_search_sarima_exog(\n",
    "    df=df,\n",
    "    splits=custom_expanding_window_splits_selected,\n",
    "    K_list=(3,4),\n",
    "    orders=((1,0,0),(1,0,1),(2,0,1)),\n",
    "    seasonal_orders=((1,0,1,24),(1,0,0,24)),\n",
    "    min_train_size=24*30,\n",
    "    max_train_size=24*100,          \n",
    "    weekly_period=168,\n",
    "    metric='mape'               \n",
    ")\n",
    "print(\"Best config:\", best)\n",
    "board.head()"
   ]
  },
  {
   "cell_type": "markdown",
   "id": "b60cf1d4",
   "metadata": {},
   "source": [
    "this could take quite long - as it evaluates all the combinations, an alternative is auto arima"
   ]
  },
  {
   "cell_type": "markdown",
   "id": "7d089222",
   "metadata": {},
   "source": [
    "##### Load saved & Eval"
   ]
  },
  {
   "cell_type": "code",
   "execution_count": null,
   "id": "7e404011",
   "metadata": {},
   "outputs": [],
   "source": [
    "import glob\n",
    "import re\n",
    "from statsmodels.tsa.statespace.sarimax import SARIMAXResults\n",
    "\n",
    "custom_expanding_window_splits_selected = [custom_expanding_window_splits[-1]]\n",
    "\n",
    "for i, (train, test) in enumerate(custom_expanding_window_splits_selected):\n",
    "    model_files = [f for f in glob.glob('./data/output/models/SARIMA_exog/SARIMA_exog_fold_1_*.pkl')\n",
    "               if not re.search(r\"\\(0, 0, 1, 24\\)\\.pkl$\", f) and not re.search(r\"_2_.*_\\(1, 0, 0, 24\\)\\.pkl$\", f)]\n",
    "    agg = []\n",
    "    \n",
    "    for file in model_files:\n",
    "        try:\n",
    "            k = int(file.split('_')[-3]) \n",
    "            print(f\"\\nProcessing model file: {file} with K={k}\")\n",
    "\n",
    "            exog_full = fourier_df(df.index, period=168, K=k)\n",
    "            exog_test = exog_full.loc[test.index]\n",
    "\n",
    "            model_fit = SARIMAXResults.load(file)\n",
    "\n",
    "            forecast_obj = model_fit.get_forecast(steps=len(test), exog=exog_test)\n",
    "            forecast_mean = forecast_obj.predicted_mean\n",
    "            pred_ci = forecast_obj.conf_int()\n",
    "\n",
    "            y_true = test['demand'].values\n",
    "            y_pred = forecast_mean.values\n",
    "\n",
    "            metrics = evaluate_forecast( y_true=y_true, y_pred=y_pred, model_name=file.split('/')[-1], plot=True, train=train['demand'], test=test['demand'], forecast_mean=forecast_mean, pred_ci=pred_ci, fold=i + 1)\n",
    "\n",
    "            agg.append({\n",
    "                \"file\": file,\n",
    "                \"K\": k,\n",
    "                \"order\": model_fit.model.order,\n",
    "                \"seasonal_order\": model_fit.model.seasonal_order,\n",
    "                \"rmse\": metrics[\"rmse\"],\n",
    "                \"mae\": metrics[\"mae\"],\n",
    "                \"mape\": metrics[\"mape\"],\n",
    "                \"r2\": metrics[\"r2\"],\n",
    "                \"aic\": model_fit.aic,\n",
    "                \"bic\": model_fit.bic\n",
    "            })\n",
    "            \n",
    "        except Exception as e:\n",
    "            print(f\"Failed to process {file} on fold {i + 1}: {e}\")\n"
   ]
  },
  {
   "cell_type": "code",
   "execution_count": null,
   "id": "70866ba0",
   "metadata": {},
   "outputs": [
    {
     "name": "stdout",
     "output_type": "stream",
     "text": [
      "\n",
      "===== Best Model (by mean RMSE across folds) =====\n",
      "File:           ./data/output/models/SARIMA_exog\\SARIMA_exog_fold_1_4_(2, 0, 1)_(1, 0, 1, 24).pkl\n",
      "K:              4\n",
      "Order:          (2, 0, 1)\n",
      "Seasonal order: (1, 0, 1, 24)\n",
      "AIC / BIC:      35171.386 / 35252.199\n",
      "Folds:          1\n",
      "Mean RMSE:      4995.7568 (± nan)\n",
      "Mean MAE:       3853.0845\n",
      "Mean MAPE:      11.43%\n",
      "Mean R²:        0.5361\n",
      "\n",
      "===== All Models Summary (sorted) =====\n",
      "                                                                             file  K     order seasonal_order          aic          bic  folds    mean_rmse  std_rmse     mean_mae  mean_mape    mean_r2\n",
      "./data/output/models/SARIMA_exog\\SARIMA_exog_fold_1_4_(2, 0, 1)_(1, 0, 1, 24).pkl  4 (2, 0, 1)  (1, 0, 1, 24) 35171.386257 35252.198899      1  4995.756817       NaN  3853.084525  11.428725   0.536104\n",
      "./data/output/models/SARIMA_exog\\SARIMA_exog_fold_1_3_(2, 0, 1)_(1, 0, 1, 24).pkl  3 (2, 0, 1)  (1, 0, 1, 24) 35168.485158 35237.753137      1  5003.337317       NaN  3856.852917  11.440526   0.534695\n",
      "./data/output/models/SARIMA_exog\\SARIMA_exog_fold_1_2_(2, 0, 1)_(1, 0, 1, 24).pkl  2 (2, 0, 1)  (1, 0, 1, 24) 35167.542420 35225.265735      1  5005.027506       NaN  3855.097275  11.429769   0.534381\n",
      "./data/output/models/SARIMA_exog\\SARIMA_exog_fold_1_1_(2, 0, 1)_(1, 0, 1, 24).pkl  1 (2, 0, 1)  (1, 0, 1, 24) 35167.113467 35213.292119      1  5080.735591       NaN  3865.434446  11.459145   0.520188\n",
      "./data/output/models/SARIMA_exog\\SARIMA_exog_fold_1_4_(1, 0, 1)_(1, 0, 1, 24).pkl  4 (1, 0, 1)  (1, 0, 1, 24) 35482.881514 35557.921824      1  5215.917059       NaN  4117.513200  12.525357   0.494316\n",
      "./data/output/models/SARIMA_exog\\SARIMA_exog_fold_1_2_(1, 0, 1)_(1, 0, 1, 24).pkl  2 (1, 0, 1)  (1, 0, 1, 24) 35483.502668 35535.453652      1  5224.418262       NaN  4120.324227  12.537957   0.492666\n",
      "./data/output/models/SARIMA_exog\\SARIMA_exog_fold_1_3_(1, 0, 1)_(1, 0, 1, 24).pkl  3 (1, 0, 1)  (1, 0, 1, 24) 35481.731605 35545.227252      1  5224.835687       NaN  4123.168389  12.538005   0.492585\n",
      "./data/output/models/SARIMA_exog\\SARIMA_exog_fold_1_1_(1, 0, 1)_(1, 0, 1, 24).pkl  1 (1, 0, 1)  (1, 0, 1, 24) 35491.712811 35532.119133      1  5346.154354       NaN  4171.780269  12.822330   0.468748\n",
      "./data/output/models/SARIMA_exog\\SARIMA_exog_fold_1_3_(1, 0, 0)_(1, 0, 1, 24).pkl  3 (1, 0, 0)  (1, 0, 1, 24) 36638.707441 36696.434968      1  5584.542325       NaN  4436.098734  13.686715   0.420314\n",
      "./data/output/models/SARIMA_exog\\SARIMA_exog_fold_1_1_(1, 0, 0)_(1, 0, 1, 24).pkl  1 (1, 0, 0)  (1, 0, 1, 24) 36660.398785 36695.035302      1  5809.583483       NaN  4562.518940  14.324884   0.372653\n",
      "./data/output/models/SARIMA_exog\\SARIMA_exog_fold_1_1_(0, 0, 1)_(1, 0, 0, 24).pkl  1 (0, 0, 1)  (1, 0, 0, 24) 41530.110803 41558.976672      1  8115.769624       NaN  6954.403305  20.911304  -0.224270\n",
      "./data/output/models/SARIMA_exog\\SARIMA_exog_fold_1_1_(0, 0, 1)_(1, 0, 1, 24).pkl  1 (0, 0, 1)  (1, 0, 1, 24) 41452.862360 41487.496349      1  8139.993138       NaN  6984.652187  21.013839  -0.231589\n",
      "./data/output/models/SARIMA_exog\\SARIMA_exog_fold_1_2_(0, 0, 1)_(1, 0, 1, 24).pkl  2 (0, 0, 1)  (1, 0, 1, 24) 41034.135638 41080.314290      1  8451.341077       NaN  7375.227646  22.355225  -0.327606\n",
      "./data/output/models/SARIMA_exog\\SARIMA_exog_fold_1_3_(0, 0, 1)_(1, 0, 1, 24).pkl  3 (0, 0, 1)  (1, 0, 1, 24) 40959.073510 41016.796826      1  8572.236288       NaN  7523.461777  22.809533  -0.365860\n",
      "./data/output/models/SARIMA_exog\\SARIMA_exog_fold_1_3_(0, 0, 1)_(1, 0, 0, 24).pkl  3 (0, 0, 1)  (1, 0, 0, 24) 53378.414990 53430.373553      1  8890.371389       NaN  7881.454607  24.017758  -0.469121\n",
      "./data/output/models/SARIMA_exog\\SARIMA_exog_fold_1_2_(1, 0, 0)_(1, 0, 1, 24).pkl  2 (1, 0, 0)  (1, 0, 1, 24) 36703.442768 36749.624790      1 24059.177757       NaN 22607.636874  71.348509  -9.759185\n",
      "./data/output/models/SARIMA_exog\\SARIMA_exog_fold_1_4_(1, 0, 0)_(1, 0, 1, 24).pkl  4 (1, 0, 0)  (1, 0, 1, 24) 36689.654039 36758.927071      1 24819.900005       NaN 23351.067612  73.642684 -10.450326\n",
      "./data/output/models/SARIMA_exog\\SARIMA_exog_fold_1_4_(1, 0, 0)_(1, 0, 0, 24).pkl  4 (1, 0, 0)  (1, 0, 0, 24) 36718.624845 36782.125125      1 27925.536895       NaN 26308.573593  82.527033 -13.495089\n",
      "./data/output/models/SARIMA_exog\\SARIMA_exog_fold_1_3_(1, 0, 0)_(1, 0, 0, 24).pkl  3 (1, 0, 0)  (1, 0, 0, 24) 36726.312995 36778.267770      1 27998.802106       NaN 26404.092754  82.811462 -13.571247\n",
      "./data/output/models/SARIMA_exog\\SARIMA_exog_fold_1_1_(1, 0, 0)_(1, 0, 0, 24).pkl  1 (1, 0, 0)  (1, 0, 0, 24) 36782.557975 36811.421739      1 28033.713346       NaN 26344.692674  82.482395 -13.607607\n",
      "./data/output/models/SARIMA_exog\\SARIMA_exog_fold_1_4_(1, 0, 1)_(1, 0, 0, 24).pkl  4 (1, 0, 1)  (1, 0, 0, 24) 35844.562191 35913.835224      1 29579.530981       NaN 28102.782378  87.790505 -15.262989\n",
      "./data/output/models/SARIMA_exog\\SARIMA_exog_fold_1_3_(1, 0, 1)_(1, 0, 0, 24).pkl  3 (1, 0, 1)  (1, 0, 0, 24) 35847.622174 35905.349701      1 29620.158912       NaN 28157.822833  87.953987 -15.307695\n",
      "./data/output/models/SARIMA_exog\\SARIMA_exog_fold_1_1_(1, 0, 1)_(1, 0, 0, 24).pkl  1 (1, 0, 1)  (1, 0, 0, 24) 35877.543306 35912.179822      1 29640.973544       NaN 28107.002354  87.646490 -15.330622\n",
      "./data/output/models/SARIMA_exog\\SARIMA_exog_fold_1_4_(2, 0, 1)_(1, 0, 0, 24).pkl  4 (2, 0, 1)  (1, 0, 0, 24) 35573.683466 35648.723776      1 30624.617864       NaN 29343.851954  91.451451 -16.432480\n",
      "./data/output/models/SARIMA_exog\\SARIMA_exog_fold_1_3_(2, 0, 1)_(1, 0, 0, 24).pkl  3 (2, 0, 1)  (1, 0, 0, 24) 35572.604836 35636.100483      1 30650.747641       NaN 29379.217627  91.557091 -16.462240\n",
      "./data/output/models/SARIMA_exog\\SARIMA_exog_fold_1_1_(2, 0, 1)_(1, 0, 0, 24).pkl  1 (2, 0, 1)  (1, 0, 0, 24) 35581.421567 35621.827888      1 30720.469104       NaN 29401.042415  91.462857 -16.541773\n"
     ]
    }
   ],
   "source": [
    "agg_df = pd.DataFrame(agg)\n",
    "grouped = agg_df.groupby([\"file\", \"K\", \"order\", \"seasonal_order\", \"aic\", \"bic\"])\n",
    "\n",
    "rows = []\n",
    "for (file, K, order, seasonal_order, aic, bic), group in grouped:\n",
    "    if group[\"rmse\"].isna().all():\n",
    "        continue\n",
    "\n",
    "    rows.append({\n",
    "        \"file\": file,\n",
    "        \"K\": K,\n",
    "        \"order\": order,\n",
    "        \"seasonal_order\": seasonal_order,\n",
    "        \"aic\": aic,\n",
    "        \"bic\": bic,\n",
    "        \"folds\": len(group),\n",
    "        \"mean_rmse\": group[\"rmse\"].mean(),\n",
    "        \"std_rmse\": group[\"rmse\"].std(),\n",
    "        \"mean_mae\": group[\"mae\"].mean(),\n",
    "        \"mean_mape\": group[\"mape\"].mean(),\n",
    "        \"mean_r2\": group[\"r2\"].mean(),\n",
    "    })\n",
    "\n",
    "summary = pd.DataFrame(rows)\n",
    "summary = summary.sort_values(by=[\"mean_rmse\", \"mean_mape\", \"aic\"],\n",
    "                              ascending=[True, True, True]).reset_index(drop=True)\n",
    "best = summary.iloc[0]\n",
    "print(\"\\n===== Best Model (by mean RMSE across folds) =====\")\n",
    "print(f\"File:           {best['file']}\")\n",
    "print(f\"K:              {best['K']}\")\n",
    "print(f\"Order:          {best['order']}\")\n",
    "print(f\"Seasonal order: {best['seasonal_order']}\")\n",
    "print(f\"AIC / BIC:      {best['aic']:.3f} / {best['bic']:.3f}\")\n",
    "print(f\"Folds:          {int(best['folds'])}\")\n",
    "print(f\"Mean RMSE:      {best['mean_rmse']:.4f} (± {best['std_rmse']:.4f})\")\n",
    "print(f\"Mean MAE:       {best['mean_mae']:.4f}\")\n",
    "print(f\"Mean MAPE:      {best['mean_mape']:.2f}%\")\n",
    "print(f\"Mean R²:        {best['mean_r2']:.4f}\")\n",
    "\n",
    "print(\"\\n===== All Models Summary (sorted) =====\")\n",
    "print(summary.to_string(index=False))"
   ]
  },
  {
   "cell_type": "markdown",
   "id": "12fe7368",
   "metadata": {},
   "source": [
    "#### HW Grid search"
   ]
  },
  {
   "cell_type": "code",
   "execution_count": null,
   "id": "99993782",
   "metadata": {},
   "outputs": [
    {
     "name": "stdout",
     "output_type": "stream",
     "text": [
      "Invalid combo: damped=True requires trend to be 'add' or 'mul'.\n",
      "Failed for trend=None, seasonal=add, sp=24, damped=True: Can only dampen the trend component\n",
      "Invalid combo: damped=True requires trend to be 'add' or 'mul'.\n",
      "Failed for trend=None, seasonal=add, sp=168, damped=True: Can only dampen the trend component\n",
      "Invalid combo: damped=True requires trend to be 'add' or 'mul'.\n",
      "Failed for trend=None, seasonal=mul, sp=24, damped=True: Can only dampen the trend component\n",
      "Invalid combo: damped=True requires trend to be 'add' or 'mul'.\n",
      "Failed for trend=None, seasonal=mul, sp=168, damped=True: Can only dampen the trend component\n",
      "\n",
      "Top candidates:\n",
      "trend seasonal  seasonal_periods  damped        rmse         mae      mape       r2\n",
      "  mul      add               168    True 5481.196834 4196.436417 12.321977 0.441570\n",
      "  add      mul               168    True 5628.139778 4192.594634 11.885820 0.411227\n",
      "  mul      mul               168    True 5629.371384 4193.426584 11.887151 0.410970\n",
      " None      mul               168   False 5633.555711 4195.460076 11.890837 0.410094\n",
      " None      add               168   False 5814.976937 4329.741547 12.363027 0.371488\n",
      "  add      add                24    True 5820.564110 4571.804689 13.940008 0.370279\n",
      " None      add                24   False 5820.914191 4572.169783 13.940262 0.370204\n",
      "  mul      add                24    True 5820.950214 4572.207024 13.940288 0.370196\n",
      "  add      add                24   False 5829.947278 4582.144885 14.000235 0.368247\n",
      "  mul      mul                24    True 5847.061146 4534.698956 13.539783 0.364533\n",
      "\n",
      "===== Best Holt-Winters Params =====\n",
      "trend=mul, seasonal=add, sp=168, damped=True\n",
      "RMSE=5481.1968, MAE=4196.4364, MAPE=12.32%, R²=0.4416\n"
     ]
    }
   ],
   "source": [
    "from itertools import product\n",
    "from statsmodels.tsa.holtwinters import ExponentialSmoothing\n",
    "from sklearn.metrics import mean_absolute_error, r2_score\n",
    "\n",
    "def to_series(x):\n",
    "    if isinstance(x, pd.DataFrame):\n",
    "        return x[\"demand\"] if \"demand\" in x.columns else x.squeeze()\n",
    "    return pd.Series(x)\n",
    "\n",
    "def rmse(y_true, y_pred):\n",
    "    y_true = np.asarray(y_true, dtype=float)\n",
    "    y_pred = np.asarray(y_pred, dtype=float)\n",
    "    return float(np.sqrt(((y_true - y_pred) ** 2).mean()))\n",
    "\n",
    "def safe_mape(y_true, y_pred, eps=1e-8):\n",
    "    y_true = np.asarray(y_true, dtype=float)\n",
    "    y_pred = np.asarray(y_pred, dtype=float)\n",
    "    denom = np.where(np.abs(y_true) < eps, eps, y_true)\n",
    "    return float(np.mean(np.abs((y_true - y_pred) / denom)) * 100)\n",
    "\n",
    "def evaluate_hw(train, test, trend, seasonal, seasonal_periods, damped):\n",
    "\n",
    "    train_s = to_series(train).astype(float)\n",
    "    test_s  = to_series(test).astype(float)\n",
    "\n",
    "    model = ExponentialSmoothing(\n",
    "        train_s,\n",
    "        trend=trend,\n",
    "        damped_trend=damped,\n",
    "        seasonal=seasonal,\n",
    "        seasonal_periods=seasonal_periods,\n",
    "    )\n",
    "    fit = model.fit(optimized=True)\n",
    "    pred = fit.forecast(len(test_s))\n",
    "\n",
    "    return {\n",
    "        \"trend\": trend,\n",
    "        \"seasonal\": seasonal,\n",
    "        \"seasonal_periods\": seasonal_periods,\n",
    "        \"damped\": damped,\n",
    "        \"rmse\": rmse(test_s, pred),\n",
    "        \"mae\": mean_absolute_error(test_s, pred),\n",
    "        \"mape\": safe_mape(test_s, pred),\n",
    "        \"r2\": r2_score(test_s, pred),\n",
    "    }\n",
    "\n",
    "trend_options = [None, \"add\", \"mul\"]\n",
    "seasonal_options = [\"add\", \"mul\"]       \n",
    "seasonal_periods_options = [24, 168]    \n",
    "damped_options = [False, True]\n",
    "\n",
    "results = []\n",
    "(train_split, test_split) = custom_expanding_window_splits_selected[0]\n",
    "\n",
    "for trend, seasonal, sp, damped in product(trend_options, seasonal_options, seasonal_periods_options, damped_options):\n",
    "    try:\n",
    "        metrics = evaluate_hw(train_split, test_split, trend, seasonal, sp, damped)\n",
    "        results.append(metrics)\n",
    "    except Exception as e:\n",
    "        if trend is None and damped:\n",
    "            print(\"Invalid combo: damped=True requires trend to be 'add' or 'mul'\")\n",
    "        print(f\"Failed for trend={trend}, seasonal={seasonal}, sp={sp}, damped={damped}: {e}\")\n",
    "\n",
    "df_results = pd.DataFrame(results).sort_values([\"rmse\", \"mape\"]).reset_index(drop=True)\n",
    "\n",
    "print(\"\\nTop candidates:\")\n",
    "print(df_results.head(10).to_string(index=False))\n",
    "\n",
    "best = df_results.iloc[0]\n",
    "print(\"\\n===== Best Holt-Winters Params =====\")\n",
    "print(f\"trend={best.trend}, seasonal={best.seasonal}, sp={int(best.seasonal_periods)}, damped={bool(best.damped)}\")\n",
    "print(f\"RMSE={best.rmse:.4f}, MAE={best.mae:.4f}, MAPE={best.mape:.2f}%, R²={best.r2:.4f}\")\n"
   ]
  },
  {
   "cell_type": "markdown",
   "id": "21891085",
   "metadata": {},
   "source": [
    "#### Prophet Grid Search"
   ]
  },
  {
   "cell_type": "code",
   "execution_count": null,
   "id": "8bec922d",
   "metadata": {},
   "outputs": [],
   "source": [
    "from itertools import product\n",
    "from prophet import Prophet\n",
    "    \n",
    "def to_prophet(df):\n",
    "    if isinstance(df, pd.DataFrame):\n",
    "        y = df[\"demand\"] if \"demand\" in df.columns else df.squeeze()\n",
    "        return pd.DataFrame({\"ds\": df.index, \"y\": y.astype(float).values})\n",
    "\n",
    "    s = pd.Series(df)\n",
    "    return pd.DataFrame({\"ds\": s.index, \"y\": s.astype(float).values})\n",
    "\n",
    "def rmse(y_true, y_pred):\n",
    "    y_true = np.asarray(y_true, dtype=float)\n",
    "    y_pred = np.asarray(y_pred, dtype=float)\n",
    "    return float(np.sqrt(np.mean((y_true - y_pred) ** 2)))\n",
    "\n",
    "def safe_mape(y_true, y_pred, eps=1e-8):\n",
    "    y_true = np.asarray(y_true, dtype=float)\n",
    "    y_pred = np.asarray(y_pred, dtype=float)\n",
    "    denom = np.where(np.abs(y_true) < eps, eps, y_true)\n",
    "    return float(np.mean(np.abs((y_true - y_pred) / denom)) * 100)\n",
    "\n",
    "def build_prophet(params):\n",
    "    m = Prophet(\n",
    "        growth=params.get(\"growth\", \"linear\"),\n",
    "        seasonality_mode=params.get(\"seasonality_mode\", \"additive\"),\n",
    "        changepoint_prior_scale=params.get(\"cps\", 0.1),\n",
    "        changepoint_range=params.get(\"changepoint_range\", 0.9),\n",
    "        n_changepoints=params.get(\"n_changepoints\", 25),\n",
    "        seasonality_prior_scale=params.get(\"sps\", 10.0),\n",
    "        holidays_prior_scale=params.get(\"hps\", 10.0),\n",
    "        interval_width=0.95,\n",
    "    )\n",
    "\n",
    "    m.add_seasonality(name=\"daily\",  period=1,        fourier_order=params.get(\"daily_fourier\", 10))      # 1 day\n",
    "    m.add_seasonality(name=\"weekly\", period=7,        fourier_order=params.get(\"weekly_fourier\", 6))      # 7 days\n",
    "    m.add_seasonality(name=\"yearly\", period=365.25,   fourier_order=params.get(\"yearly_fourier\", 10))     # 1 year\n",
    "\n",
    "    if params.get(\"country_holidays\"):\n",
    "        m.add_country_holidays(country_name=params[\"country_holidays\"])\n",
    "\n",
    "    for reg in params.get(\"regressors\", []):\n",
    "        m.add_regressor(reg)\n",
    "\n",
    "    return m\n",
    "\n",
    "def fit_predict_one_split(train_df, test_df, params):\n",
    "\n",
    "    m = build_prophet(params)\n",
    "    train_p = to_prophet(train_df).dropna()\n",
    "    test_p  = to_prophet(test_df).dropna()\n",
    "\n",
    "    m.fit(train_p)\n",
    "\n",
    "    future = pd.DataFrame({\"ds\": test_p[\"ds\"]})\n",
    "    fcst = m.predict(future)\n",
    "    y_true = test_p[\"y\"].values\n",
    "    y_pred = fcst[\"yhat\"].values\n",
    "\n",
    "    return {\n",
    "        \"rmse\": rmse(y_true, y_pred),\n",
    "        \"mae\": float(np.mean(np.abs(y_true - y_pred))),\n",
    "        \"mape\": safe_mape(y_true, y_pred),\n",
    "        \"r2\": 1.0 - (np.sum((y_true - y_pred)**2) / np.sum((y_true - np.mean(y_true))**2) if np.var(y_true) > 0 else np.nan),\n",
    "    }\n"
   ]
  },
  {
   "cell_type": "code",
   "execution_count": null,
   "id": "3116e2c9",
   "metadata": {},
   "outputs": [],
   "source": [
    "def prophet_grid_search(\n",
    "    splits,\n",
    "    cps=(0.01, 0.1, 0.3),                 \n",
    "    sps=(5.0, 10.0),                      \n",
    "    seasonality_mode=(\"additive\", \"multiplicative\"),\n",
    "    daily_fourier=(10,),                 \n",
    "    weekly_fourier=(6,),\n",
    "    yearly_fourier=(10,),\n",
    "    n_changepoints=(25,),\n",
    "    changepoint_range=(0.9,),\n",
    "    country_holidays=(\"US\", None),        \n",
    "    regressors=None,                      \n",
    "):\n",
    "    results = []\n",
    "    grid = product(cps, sps, seasonality_mode, daily_fourier, weekly_fourier, yearly_fourier,\n",
    "                   n_changepoints, changepoint_range, country_holidays)\n",
    "\n",
    "    for (cps_, sps_, mode_, d_f, w_f, y_f, ncp, cpr, hol) in grid:\n",
    "        params = dict(\n",
    "            cps=cps_, sps=sps_, seasonality_mode=mode_,\n",
    "            daily_fourier=d_f, weekly_fourier=w_f, yearly_fourier=y_f,\n",
    "            n_changepoints=ncp, changepoint_range=cpr,\n",
    "            country_holidays=hol, regressors=(regressors or [])\n",
    "        )\n",
    "\n",
    "        fold_metrics = []\n",
    "        try:\n",
    "            for train_df, test_df in splits:\n",
    "                m = fit_predict_one_split(train_df, test_df, params)\n",
    "                fold_metrics.append(m)\n",
    "\n",
    "            avg = {k: float(np.mean([fm[k] for fm in fold_metrics if np.isfinite(fm[k])])) for k in [\"rmse\",\"mae\",\"mape\",\"r2\"]}\n",
    "            results.append({**params, **{f\"mean_{k}\": v for k,v in avg.items()}})\n",
    "            print(f\"{params}  ->  RMSE={avg['rmse']:.2f}, MAPE={avg['mape']:.2f}%\")\n",
    "\n",
    "        except Exception as e:\n",
    "            print(f\"× Skipping {params}: {e}\")\n",
    "\n",
    "\n",
    "    summary = pd.DataFrame(results).sort_values([\"mean_rmse\",\"mean_mape\"]).reset_index(drop=True)\n",
    "    best = summary.iloc[0]\n",
    "\n",
    "    print(\"\\n===== Best Prophet (by mean RMSE across folds) =====\")\n",
    "    print(f\"mode={best['seasonality_mode']}, cps={best['cps']}, sps={best['sps']}, n_changepoints={int(best['n_changepoints'])}, \"\n",
    "          f\"cpr={best['changepoint_range']}, dFO={int(best['daily_fourier'])}, wFO={int(best['weekly_fourier'])}, \"\n",
    "          f\"yFO={int(best['yearly_fourier'])}, holidays={best['country_holidays']}\")\n",
    "    print(f\"RMSE={best['mean_rmse']:.2f}, MAE={best['mean_mae']:.2f}, MAPE={best['mean_mape']:.2f}%, R²={best['mean_r2']:.3f}\")\n",
    "\n",
    "    return best, summary"
   ]
  },
  {
   "cell_type": "code",
   "execution_count": null,
   "id": "9f3e6684",
   "metadata": {},
   "outputs": [
    {
     "name": "stderr",
     "output_type": "stream",
     "text": [
      "20:24:41 - cmdstanpy - INFO - Chain [1] start processing\n",
      "20:25:28 - cmdstanpy - INFO - Chain [1] done processing\n"
     ]
    },
    {
     "name": "stdout",
     "output_type": "stream",
     "text": [
      "✓ {'cps': 0.01, 'sps': 5.0, 'seasonality_mode': 'additive', 'daily_fourier': 10, 'weekly_fourier': 6, 'yearly_fourier': 10, 'n_changepoints': 25, 'changepoint_range': 0.9, 'country_holidays': 'US', 'regressors': []}  ->  RMSE=4126.69, MAPE=8.93%\n"
     ]
    },
    {
     "name": "stderr",
     "output_type": "stream",
     "text": [
      "20:25:43 - cmdstanpy - INFO - Chain [1] start processing\n",
      "20:26:04 - cmdstanpy - INFO - Chain [1] done processing\n"
     ]
    },
    {
     "name": "stdout",
     "output_type": "stream",
     "text": [
      "✓ {'cps': 0.01, 'sps': 5.0, 'seasonality_mode': 'additive', 'daily_fourier': 10, 'weekly_fourier': 6, 'yearly_fourier': 10, 'n_changepoints': 25, 'changepoint_range': 0.9, 'country_holidays': None, 'regressors': []}  ->  RMSE=4112.03, MAPE=8.91%\n"
     ]
    },
    {
     "name": "stderr",
     "output_type": "stream",
     "text": [
      "20:26:17 - cmdstanpy - INFO - Chain [1] start processing\n",
      "20:26:59 - cmdstanpy - INFO - Chain [1] done processing\n"
     ]
    },
    {
     "name": "stdout",
     "output_type": "stream",
     "text": [
      "✓ {'cps': 0.01, 'sps': 5.0, 'seasonality_mode': 'multiplicative', 'daily_fourier': 10, 'weekly_fourier': 6, 'yearly_fourier': 10, 'n_changepoints': 25, 'changepoint_range': 0.9, 'country_holidays': 'US', 'regressors': []}  ->  RMSE=3912.07, MAPE=8.87%\n"
     ]
    },
    {
     "name": "stderr",
     "output_type": "stream",
     "text": [
      "20:27:10 - cmdstanpy - INFO - Chain [1] start processing\n",
      "20:27:43 - cmdstanpy - INFO - Chain [1] done processing\n"
     ]
    },
    {
     "name": "stdout",
     "output_type": "stream",
     "text": [
      "✓ {'cps': 0.01, 'sps': 5.0, 'seasonality_mode': 'multiplicative', 'daily_fourier': 10, 'weekly_fourier': 6, 'yearly_fourier': 10, 'n_changepoints': 25, 'changepoint_range': 0.9, 'country_holidays': None, 'regressors': []}  ->  RMSE=3948.97, MAPE=8.83%\n"
     ]
    },
    {
     "name": "stderr",
     "output_type": "stream",
     "text": [
      "20:27:56 - cmdstanpy - INFO - Chain [1] start processing\n",
      "20:28:16 - cmdstanpy - INFO - Chain [1] done processing\n"
     ]
    },
    {
     "name": "stdout",
     "output_type": "stream",
     "text": [
      "✓ {'cps': 0.01, 'sps': 10.0, 'seasonality_mode': 'additive', 'daily_fourier': 10, 'weekly_fourier': 6, 'yearly_fourier': 10, 'n_changepoints': 25, 'changepoint_range': 0.9, 'country_holidays': 'US', 'regressors': []}  ->  RMSE=4083.28, MAPE=8.84%\n"
     ]
    },
    {
     "name": "stderr",
     "output_type": "stream",
     "text": [
      "20:28:26 - cmdstanpy - INFO - Chain [1] start processing\n",
      "20:28:51 - cmdstanpy - INFO - Chain [1] done processing\n"
     ]
    },
    {
     "name": "stdout",
     "output_type": "stream",
     "text": [
      "✓ {'cps': 0.01, 'sps': 10.0, 'seasonality_mode': 'additive', 'daily_fourier': 10, 'weekly_fourier': 6, 'yearly_fourier': 10, 'n_changepoints': 25, 'changepoint_range': 0.9, 'country_holidays': None, 'regressors': []}  ->  RMSE=4108.97, MAPE=8.91%\n"
     ]
    },
    {
     "name": "stderr",
     "output_type": "stream",
     "text": [
      "20:29:05 - cmdstanpy - INFO - Chain [1] start processing\n",
      "20:29:56 - cmdstanpy - INFO - Chain [1] done processing\n"
     ]
    },
    {
     "name": "stdout",
     "output_type": "stream",
     "text": [
      "✓ {'cps': 0.01, 'sps': 10.0, 'seasonality_mode': 'multiplicative', 'daily_fourier': 10, 'weekly_fourier': 6, 'yearly_fourier': 10, 'n_changepoints': 25, 'changepoint_range': 0.9, 'country_holidays': 'US', 'regressors': []}  ->  RMSE=3909.99, MAPE=8.97%\n"
     ]
    },
    {
     "name": "stderr",
     "output_type": "stream",
     "text": [
      "20:30:07 - cmdstanpy - INFO - Chain [1] start processing\n",
      "20:30:37 - cmdstanpy - INFO - Chain [1] done processing\n"
     ]
    },
    {
     "name": "stdout",
     "output_type": "stream",
     "text": [
      "✓ {'cps': 0.01, 'sps': 10.0, 'seasonality_mode': 'multiplicative', 'daily_fourier': 10, 'weekly_fourier': 6, 'yearly_fourier': 10, 'n_changepoints': 25, 'changepoint_range': 0.9, 'country_holidays': None, 'regressors': []}  ->  RMSE=3944.24, MAPE=8.86%\n"
     ]
    },
    {
     "name": "stderr",
     "output_type": "stream",
     "text": [
      "20:30:49 - cmdstanpy - INFO - Chain [1] start processing\n",
      "20:32:28 - cmdstanpy - INFO - Chain [1] done processing\n"
     ]
    },
    {
     "name": "stdout",
     "output_type": "stream",
     "text": [
      "✓ {'cps': 0.1, 'sps': 5.0, 'seasonality_mode': 'additive', 'daily_fourier': 10, 'weekly_fourier': 6, 'yearly_fourier': 10, 'n_changepoints': 25, 'changepoint_range': 0.9, 'country_holidays': 'US', 'regressors': []}  ->  RMSE=4059.76, MAPE=10.12%\n"
     ]
    },
    {
     "name": "stderr",
     "output_type": "stream",
     "text": [
      "20:32:39 - cmdstanpy - INFO - Chain [1] start processing\n",
      "20:33:49 - cmdstanpy - INFO - Chain [1] done processing\n"
     ]
    },
    {
     "name": "stdout",
     "output_type": "stream",
     "text": [
      "✓ {'cps': 0.1, 'sps': 5.0, 'seasonality_mode': 'additive', 'daily_fourier': 10, 'weekly_fourier': 6, 'yearly_fourier': 10, 'n_changepoints': 25, 'changepoint_range': 0.9, 'country_holidays': None, 'regressors': []}  ->  RMSE=4109.46, MAPE=10.32%\n"
     ]
    },
    {
     "name": "stderr",
     "output_type": "stream",
     "text": [
      "20:34:01 - cmdstanpy - INFO - Chain [1] start processing\n",
      "20:36:17 - cmdstanpy - INFO - Chain [1] done processing\n"
     ]
    },
    {
     "name": "stdout",
     "output_type": "stream",
     "text": [
      "✓ {'cps': 0.1, 'sps': 5.0, 'seasonality_mode': 'multiplicative', 'daily_fourier': 10, 'weekly_fourier': 6, 'yearly_fourier': 10, 'n_changepoints': 25, 'changepoint_range': 0.9, 'country_holidays': 'US', 'regressors': []}  ->  RMSE=9490.38, MAPE=27.02%\n"
     ]
    },
    {
     "name": "stderr",
     "output_type": "stream",
     "text": [
      "20:36:28 - cmdstanpy - INFO - Chain [1] start processing\n",
      "20:38:32 - cmdstanpy - INFO - Chain [1] done processing\n"
     ]
    },
    {
     "name": "stdout",
     "output_type": "stream",
     "text": [
      "✓ {'cps': 0.1, 'sps': 5.0, 'seasonality_mode': 'multiplicative', 'daily_fourier': 10, 'weekly_fourier': 6, 'yearly_fourier': 10, 'n_changepoints': 25, 'changepoint_range': 0.9, 'country_holidays': None, 'regressors': []}  ->  RMSE=9399.43, MAPE=26.70%\n"
     ]
    },
    {
     "name": "stderr",
     "output_type": "stream",
     "text": [
      "20:38:44 - cmdstanpy - INFO - Chain [1] start processing\n",
      "20:40:14 - cmdstanpy - INFO - Chain [1] done processing\n"
     ]
    },
    {
     "name": "stdout",
     "output_type": "stream",
     "text": [
      "✓ {'cps': 0.1, 'sps': 10.0, 'seasonality_mode': 'additive', 'daily_fourier': 10, 'weekly_fourier': 6, 'yearly_fourier': 10, 'n_changepoints': 25, 'changepoint_range': 0.9, 'country_holidays': 'US', 'regressors': []}  ->  RMSE=4024.78, MAPE=9.87%\n"
     ]
    },
    {
     "name": "stderr",
     "output_type": "stream",
     "text": [
      "20:40:28 - cmdstanpy - INFO - Chain [1] start processing\n",
      "20:41:58 - cmdstanpy - INFO - Chain [1] done processing\n"
     ]
    },
    {
     "name": "stdout",
     "output_type": "stream",
     "text": [
      "✓ {'cps': 0.1, 'sps': 10.0, 'seasonality_mode': 'additive', 'daily_fourier': 10, 'weekly_fourier': 6, 'yearly_fourier': 10, 'n_changepoints': 25, 'changepoint_range': 0.9, 'country_holidays': None, 'regressors': []}  ->  RMSE=4098.60, MAPE=10.24%\n"
     ]
    },
    {
     "name": "stderr",
     "output_type": "stream",
     "text": [
      "20:42:13 - cmdstanpy - INFO - Chain [1] start processing\n",
      "20:44:59 - cmdstanpy - INFO - Chain [1] done processing\n"
     ]
    },
    {
     "name": "stdout",
     "output_type": "stream",
     "text": [
      "✓ {'cps': 0.1, 'sps': 10.0, 'seasonality_mode': 'multiplicative', 'daily_fourier': 10, 'weekly_fourier': 6, 'yearly_fourier': 10, 'n_changepoints': 25, 'changepoint_range': 0.9, 'country_holidays': 'US', 'regressors': []}  ->  RMSE=9485.50, MAPE=27.01%\n"
     ]
    },
    {
     "name": "stderr",
     "output_type": "stream",
     "text": [
      "20:45:13 - cmdstanpy - INFO - Chain [1] start processing\n",
      "20:47:18 - cmdstanpy - INFO - Chain [1] done processing\n"
     ]
    },
    {
     "name": "stdout",
     "output_type": "stream",
     "text": [
      "✓ {'cps': 0.1, 'sps': 10.0, 'seasonality_mode': 'multiplicative', 'daily_fourier': 10, 'weekly_fourier': 6, 'yearly_fourier': 10, 'n_changepoints': 25, 'changepoint_range': 0.9, 'country_holidays': None, 'regressors': []}  ->  RMSE=9468.10, MAPE=26.90%\n"
     ]
    },
    {
     "name": "stderr",
     "output_type": "stream",
     "text": [
      "20:47:31 - cmdstanpy - INFO - Chain [1] start processing\n",
      "20:50:13 - cmdstanpy - INFO - Chain [1] done processing\n"
     ]
    },
    {
     "name": "stdout",
     "output_type": "stream",
     "text": [
      "✓ {'cps': 0.3, 'sps': 5.0, 'seasonality_mode': 'additive', 'daily_fourier': 10, 'weekly_fourier': 6, 'yearly_fourier': 10, 'n_changepoints': 25, 'changepoint_range': 0.9, 'country_holidays': 'US', 'regressors': []}  ->  RMSE=6090.34, MAPE=18.33%\n"
     ]
    },
    {
     "name": "stderr",
     "output_type": "stream",
     "text": [
      "20:50:22 - cmdstanpy - INFO - Chain [1] start processing\n",
      "20:51:47 - cmdstanpy - INFO - Chain [1] done processing\n"
     ]
    },
    {
     "name": "stdout",
     "output_type": "stream",
     "text": [
      "✓ {'cps': 0.3, 'sps': 5.0, 'seasonality_mode': 'additive', 'daily_fourier': 10, 'weekly_fourier': 6, 'yearly_fourier': 10, 'n_changepoints': 25, 'changepoint_range': 0.9, 'country_holidays': None, 'regressors': []}  ->  RMSE=5193.68, MAPE=15.17%\n"
     ]
    },
    {
     "name": "stderr",
     "output_type": "stream",
     "text": [
      "20:51:57 - cmdstanpy - INFO - Chain [1] start processing\n",
      "20:54:10 - cmdstanpy - INFO - Chain [1] done processing\n"
     ]
    },
    {
     "name": "stdout",
     "output_type": "stream",
     "text": [
      "✓ {'cps': 0.3, 'sps': 5.0, 'seasonality_mode': 'multiplicative', 'daily_fourier': 10, 'weekly_fourier': 6, 'yearly_fourier': 10, 'n_changepoints': 25, 'changepoint_range': 0.9, 'country_holidays': 'US', 'regressors': []}  ->  RMSE=9962.76, MAPE=28.29%\n"
     ]
    },
    {
     "name": "stderr",
     "output_type": "stream",
     "text": [
      "20:54:19 - cmdstanpy - INFO - Chain [1] start processing\n",
      "20:55:25 - cmdstanpy - INFO - Chain [1] done processing\n"
     ]
    },
    {
     "name": "stdout",
     "output_type": "stream",
     "text": [
      "✓ {'cps': 0.3, 'sps': 5.0, 'seasonality_mode': 'multiplicative', 'daily_fourier': 10, 'weekly_fourier': 6, 'yearly_fourier': 10, 'n_changepoints': 25, 'changepoint_range': 0.9, 'country_holidays': None, 'regressors': []}  ->  RMSE=9975.52, MAPE=28.29%\n"
     ]
    },
    {
     "name": "stderr",
     "output_type": "stream",
     "text": [
      "20:55:35 - cmdstanpy - INFO - Chain [1] start processing\n",
      "20:56:58 - cmdstanpy - INFO - Chain [1] done processing\n"
     ]
    },
    {
     "name": "stdout",
     "output_type": "stream",
     "text": [
      "✓ {'cps': 0.3, 'sps': 10.0, 'seasonality_mode': 'additive', 'daily_fourier': 10, 'weekly_fourier': 6, 'yearly_fourier': 10, 'n_changepoints': 25, 'changepoint_range': 0.9, 'country_holidays': 'US', 'regressors': []}  ->  RMSE=4811.91, MAPE=13.76%\n"
     ]
    },
    {
     "name": "stderr",
     "output_type": "stream",
     "text": [
      "20:57:07 - cmdstanpy - INFO - Chain [1] start processing\n",
      "20:58:32 - cmdstanpy - INFO - Chain [1] done processing\n"
     ]
    },
    {
     "name": "stdout",
     "output_type": "stream",
     "text": [
      "✓ {'cps': 0.3, 'sps': 10.0, 'seasonality_mode': 'additive', 'daily_fourier': 10, 'weekly_fourier': 6, 'yearly_fourier': 10, 'n_changepoints': 25, 'changepoint_range': 0.9, 'country_holidays': None, 'regressors': []}  ->  RMSE=5575.02, MAPE=16.52%\n"
     ]
    },
    {
     "name": "stderr",
     "output_type": "stream",
     "text": [
      "20:58:43 - cmdstanpy - INFO - Chain [1] start processing\n",
      "21:00:37 - cmdstanpy - INFO - Chain [1] done processing\n"
     ]
    },
    {
     "name": "stdout",
     "output_type": "stream",
     "text": [
      "✓ {'cps': 0.3, 'sps': 10.0, 'seasonality_mode': 'multiplicative', 'daily_fourier': 10, 'weekly_fourier': 6, 'yearly_fourier': 10, 'n_changepoints': 25, 'changepoint_range': 0.9, 'country_holidays': 'US', 'regressors': []}  ->  RMSE=10099.67, MAPE=28.70%\n"
     ]
    },
    {
     "name": "stderr",
     "output_type": "stream",
     "text": [
      "21:00:46 - cmdstanpy - INFO - Chain [1] start processing\n",
      "21:02:10 - cmdstanpy - INFO - Chain [1] done processing\n"
     ]
    },
    {
     "name": "stdout",
     "output_type": "stream",
     "text": [
      "✓ {'cps': 0.3, 'sps': 10.0, 'seasonality_mode': 'multiplicative', 'daily_fourier': 10, 'weekly_fourier': 6, 'yearly_fourier': 10, 'n_changepoints': 25, 'changepoint_range': 0.9, 'country_holidays': None, 'regressors': []}  ->  RMSE=10083.48, MAPE=28.61%\n",
      "\n",
      "===== Best Prophet (by mean RMSE across folds) =====\n",
      "mode=multiplicative, cps=0.01, sps=10.0, n_changepoints=25, cpr=0.9, dFO=10, wFO=6, yFO=10, holidays=US\n",
      "RMSE=3909.99, MAE=2928.94, MAPE=8.97%, R²=0.716\n"
     ]
    },
    {
     "data": {
      "text/plain": [
       "(cps                            0.01\n",
       " sps                            10.0\n",
       " seasonality_mode     multiplicative\n",
       " daily_fourier                    10\n",
       " weekly_fourier                    6\n",
       " yearly_fourier                   10\n",
       " n_changepoints                   25\n",
       " changepoint_range               0.9\n",
       " country_holidays                 US\n",
       " regressors                       []\n",
       " mean_rmse               3909.992837\n",
       " mean_mae                2928.942684\n",
       " mean_mape                  8.967069\n",
       " mean_r2                    0.715836\n",
       " Name: 0, dtype: object,\n",
       "      cps   sps seasonality_mode  daily_fourier  weekly_fourier  \\\n",
       " 0   0.01  10.0   multiplicative             10               6   \n",
       " 1   0.01   5.0   multiplicative             10               6   \n",
       " 2   0.01  10.0   multiplicative             10               6   \n",
       " 3   0.01   5.0   multiplicative             10               6   \n",
       " 4   0.10  10.0         additive             10               6   \n",
       " 5   0.10   5.0         additive             10               6   \n",
       " 6   0.01  10.0         additive             10               6   \n",
       " 7   0.10  10.0         additive             10               6   \n",
       " 8   0.01  10.0         additive             10               6   \n",
       " 9   0.10   5.0         additive             10               6   \n",
       " 10  0.01   5.0         additive             10               6   \n",
       " 11  0.01   5.0         additive             10               6   \n",
       " 12  0.30  10.0         additive             10               6   \n",
       " 13  0.30   5.0         additive             10               6   \n",
       " 14  0.30  10.0         additive             10               6   \n",
       " 15  0.30   5.0         additive             10               6   \n",
       " 16  0.10   5.0   multiplicative             10               6   \n",
       " 17  0.10  10.0   multiplicative             10               6   \n",
       " 18  0.10  10.0   multiplicative             10               6   \n",
       " 19  0.10   5.0   multiplicative             10               6   \n",
       " 20  0.30   5.0   multiplicative             10               6   \n",
       " 21  0.30   5.0   multiplicative             10               6   \n",
       " 22  0.30  10.0   multiplicative             10               6   \n",
       " 23  0.30  10.0   multiplicative             10               6   \n",
       " \n",
       "     yearly_fourier  n_changepoints  changepoint_range country_holidays  \\\n",
       " 0               10              25                0.9               US   \n",
       " 1               10              25                0.9               US   \n",
       " 2               10              25                0.9             None   \n",
       " 3               10              25                0.9             None   \n",
       " 4               10              25                0.9               US   \n",
       " 5               10              25                0.9               US   \n",
       " 6               10              25                0.9               US   \n",
       " 7               10              25                0.9             None   \n",
       " 8               10              25                0.9             None   \n",
       " 9               10              25                0.9             None   \n",
       " 10              10              25                0.9             None   \n",
       " 11              10              25                0.9               US   \n",
       " 12              10              25                0.9               US   \n",
       " 13              10              25                0.9             None   \n",
       " 14              10              25                0.9             None   \n",
       " 15              10              25                0.9               US   \n",
       " 16              10              25                0.9             None   \n",
       " 17              10              25                0.9             None   \n",
       " 18              10              25                0.9               US   \n",
       " 19              10              25                0.9               US   \n",
       " 20              10              25                0.9               US   \n",
       " 21              10              25                0.9             None   \n",
       " 22              10              25                0.9             None   \n",
       " 23              10              25                0.9               US   \n",
       " \n",
       "    regressors     mean_rmse     mean_mae  mean_mape   mean_r2  \n",
       " 0          []   3909.992837  2928.942684   8.967069  0.715836  \n",
       " 1          []   3912.066538  2912.604240   8.870137  0.715534  \n",
       " 2          []   3944.239458  2921.202719   8.862200  0.710836  \n",
       " 3          []   3948.966960  2917.523861   8.829258  0.710142  \n",
       " 4          []   4024.780184  3111.896648   9.871022  0.698906  \n",
       " 5          []   4059.758825  3168.337536  10.118369  0.693650  \n",
       " 6          []   4083.278393  2992.076311   8.841467  0.690090  \n",
       " 7          []   4098.604036  3200.406619  10.241824  0.687759  \n",
       " 8          []   4108.969440  3012.321960   8.907031  0.686178  \n",
       " 9          []   4109.457358  3217.177973  10.319917  0.686103  \n",
       " 10         []   4112.027898  3014.864342   8.912768  0.685710  \n",
       " 11         []   4126.687056  3030.841165   8.927718  0.683466  \n",
       " 12         []   4811.909947  4077.606208  13.761237  0.569619  \n",
       " 13         []   5193.683183  4452.413851  15.171933  0.498618  \n",
       " 14         []   5575.018845  4817.304925  16.522756  0.422289  \n",
       " 15         []   6090.339295  5306.688456  18.329099  0.310553  \n",
       " 16         []   9399.429108  7865.224262  26.702667 -0.642180  \n",
       " 17         []   9468.103214  7921.859455  26.898208 -0.666264  \n",
       " 18         []   9485.503354  7958.929600  27.007103 -0.672394  \n",
       " 19         []   9490.378403  7963.410775  27.022515 -0.674113  \n",
       " 20         []   9962.764976  8340.590112  28.293922 -0.844920  \n",
       " 21         []   9975.518683  8333.747640  28.288802 -0.849647  \n",
       " 22         []  10083.476615  8427.710651  28.609309 -0.889898  \n",
       " 23         []  10099.671439  8460.332597  28.704221 -0.895974  )"
      ]
     },
     "metadata": {},
     "output_type": "display_data"
    }
   ],
   "source": [
    "prophet_grid_search(splits=custom_expanding_window_splits_selected)"
   ]
  }
 ],
 "metadata": {
  "language_info": {
   "name": "python"
  }
 },
 "nbformat": 4,
 "nbformat_minor": 5
}
